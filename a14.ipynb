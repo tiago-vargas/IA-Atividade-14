{
 "cells": [
  {
   "cell_type": "markdown",
   "metadata": {},
   "source": [
    "# Tiago Vargas Pereira de Oliveira"
   ]
  },
  {
   "cell_type": "markdown",
   "metadata": {},
   "source": [
    "# Q5\n",
    "\n",
    "**Implemente o GA podendo usar o código disponível no drive da aula, para resolver a função de 1 variável: $f(x) = x \\cdot sen(x) + x \\cdot cos(x)$, em que $x ∈ [0,14]$**"
   ]
  },
  {
   "cell_type": "code",
   "execution_count": 1,
   "metadata": {},
   "outputs": [],
   "source": [
    "import numpy as np"
   ]
  },
  {
   "cell_type": "code",
   "execution_count": 10,
   "metadata": {},
   "outputs": [],
   "source": [
    "from math import sin, cos\n",
    "\n",
    "\n",
    "population_size = 50\n",
    "fitness_function = lambda x: x * sin(x) + x * cos(x)"
   ]
  },
  {
   "cell_type": "code",
   "execution_count": 13,
   "metadata": {},
   "outputs": [],
   "source": [
    "import random\n",
    "\n",
    "\n",
    "def generate_population(interval: tuple[float, float], quantity: int) -> list[float]:\n",
    "\treturn [random.uniform(interval[0], interval[1]) for _ in range(quantity)]"
   ]
  },
  {
   "cell_type": "code",
   "execution_count": 12,
   "metadata": {},
   "outputs": [],
   "source": [
    "from typing import Callable\n",
    "\n",
    "\n",
    "def calculate_fitness(population: list[float], fitness_function: Callable[[float], float]) -> list[float]:\n",
    "\treturn [fitness_function(x) for x in population]"
   ]
  },
  {
   "cell_type": "code",
   "execution_count": null,
   "metadata": {},
   "outputs": [],
   "source": [
    "Individual = tuple[float, float]  # (value, fitness_score)\n",
    "\n",
    "\n",
    "def select_parents(population: list[Individual], amount_percentage: float) -> list[Individual]:\n",
    "\tnum_winners = int(amount_percentage * len(population))\n",
    "\twinners = []\n",
    "\twhile len(winners) < num_winners:\n",
    "\t\tcontestants = random.sample(population, k=2)\n",
    "\t\twinner = max(contestants, key=lambda x: x[1])\n",
    "\t\twinners.append(winner)\n",
    "\treturn winners"
   ]
  },
  {
   "cell_type": "code",
   "execution_count": null,
   "metadata": {},
   "outputs": [],
   "source": [
    "def arithmetic_crossover(parents: tuple[float, float]) -> float:\n",
    "\tx_0 = parents[0]\n",
    "\tx_1 = parents[1]\n",
    "\n",
    "\t# Create the offspring by combining the parents' x values\n",
    "\talpha = random.random()\n",
    "\toffspring = alpha * x_0 + (1 - alpha) * x_1\n",
    "\n",
    "\treturn offspring"
   ]
  },
  {
   "cell_type": "code",
   "execution_count": null,
   "metadata": {},
   "outputs": [],
   "source": [
    "def mutate(individual: float, mutation_rate: float) -> float:\n",
    "\t# Mutate an individual by adding a random value to it\n",
    "\tif random.random() < mutation_rate:\n",
    "\t\treturn individual + random.uniform(-1, 1)  # Maybe change the interval\n",
    "\telse:\n",
    "\t\treturn individual"
   ]
  },
  {
   "cell_type": "code",
   "execution_count": null,
   "metadata": {},
   "outputs": [],
   "source": [
    "def replacement_worst_individuals(population: list[Individual], offspring: list[Individual]) -> list[Individual]:\n",
    "\tpopulation.sort(key=lambda x: x[1], reverse=False)  # Dos piores pros melhores\n",
    "\toffspring.sort(key=lambda x: x[1], reverse=True)  # Dos melhores pros piores\n",
    "\n",
    "\tnum_replace = len(offspring) // 2\n",
    "\n",
    "\t# Troca os piores de `population` pelos melhores de `offspring`\n",
    "\tpopulation[:num_replace] = offspring[:num_replace]\n",
    "\n",
    "\treturn population"
   ]
  },
  {
   "cell_type": "code",
   "execution_count": null,
   "metadata": {},
   "outputs": [],
   "source": [
    "population = generate_population(interval=(0, 14), quantity=50)\n",
    "\n",
    "fitness = calculate_fitness(population, fitness_function)\n",
    "\n",
    "individuals: list[Individual] = list(zip(population, fitness))\n",
    "\n",
    "new_population = select_parents(individuals, amount_percentage=0.5)"
   ]
  }
 ],
 "metadata": {
  "kernelspec": {
   "display_name": ".venv",
   "language": "python",
   "name": "python3"
  },
  "language_info": {
   "codemirror_mode": {
    "name": "ipython",
    "version": 3
   },
   "file_extension": ".py",
   "mimetype": "text/x-python",
   "name": "python",
   "nbconvert_exporter": "python",
   "pygments_lexer": "ipython3",
   "version": "3.11.6"
  }
 },
 "nbformat": 4,
 "nbformat_minor": 2
}
